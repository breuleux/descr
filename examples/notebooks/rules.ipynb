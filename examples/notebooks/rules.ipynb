{
 "metadata": {
  "name": "rules"
 },
 "nbformat": 3,
 "nbformat_minor": 0,
 "worksheets": [
  {
   "cells": [
    {
     "cell_type": "markdown",
     "metadata": {},
     "source": [
      "Rules\n",
      "=====\n",
      "\n",
      "This section covers the various ways to manipulate the display of objects using rules.\n",
      "First let's instantiate our printer:"
     ]
    },
    {
     "cell_type": "code",
     "collapsed": true,
     "input": [
      "from descr import boxy_notebook, descr, HTMLRuleBuilder as RB\n",
      "pr = boxy_notebook(always_setup = True)"
     ],
     "language": "python",
     "metadata": {},
     "outputs": [],
     "prompt_number": 1
    },
    {
     "cell_type": "markdown",
     "metadata": {},
     "source": [
      "What is a rule?\n",
      "===============\n",
      "\n",
      "`descr` works by applying a certain amount of *rules* on the description.\n",
      "A rule is of the form:\n",
      "\n",
      "`(selector, {attr: value, ...}`\n",
      "\n",
      "They are applied in the order that they are found. The attributes in the\n",
      "dictionary may be CSS attributes (`color`, `border`, etc.) or special attributes\n",
      "which are prefixed by `:` (`:rearrange`, `:hide`, `:+classes`, etc.). The CSS\n",
      "attributes are simply dumped in a stylesheet, whereas the others are processed\n",
      "by Python, and their values may be functions.\n",
      "\n",
      "Some attributes may be **compounded**. That is to say, if you define an\n",
      "attribute for the selector `.bla` multiple times, and that this attribute\n",
      "is marked as *compounded*, all values will be kept in a list and they will\n",
      "all be applied according to the attribute's semantics. Still, if you set the\n",
      "attribute to `None`, previous values will be discarded (but only for that\n",
      "precise selector).\n",
      "\n",
      "In order to facilitate building a list of rules, there is the `RuleBuilder`\n",
      "class and the `HTMLRuleBuilder` class, the latter of which offers a few\n",
      "handy shortcuts over the former (but they are otherwise the same). So for\n",
      "instance you can write `RuleBuilder().hide(selector)` instead of\n",
      "`RuleBuilder().rule(selector, {\":hide\": lambda x, y: True})`. The list of\n",
      "rules is stored rather plainly in `.rules`, so you can always use that\n",
      "as a point of reference to understand what you are building at a lower level:"
     ]
    },
    {
     "cell_type": "code",
     "collapsed": false,
     "input": [
      "RB().hide(\".blabla\").rules"
     ],
     "language": "python",
     "metadata": {},
     "outputs": [],
     "prompt_number": 2
    },
    {
     "cell_type": "markdown",
     "metadata": {},
     "source": [
      "CSS\n",
      "===\n",
      "\n",
      "The most straightforward thing you may want to do is manipulate the stylesheet\n",
      "used to style the description. Use `HTMLRuleBuilder.css_<attribute>(selector, value)`.\n",
      "If the attribute contains underscores, they will be automatically changed into\n",
      "dashes. The rules thus constructed will be dumped in a stylesheet in the order\n",
      "that the selectors are defined and the later definitions override the former."
     ]
    },
    {
     "cell_type": "code",
     "collapsed": false,
     "input": [
      "rules = RB()\n",
      "rules.css_border(\".sequence\", \"2px solid red\")\n",
      "rules.css_border(\".sequence .sequence\", \"2px solid green\")\n",
      "rules.css_border(\".sequence .sequence .sequence\", \"2px solid blue\")\n",
      "rules.css_background_color(\".{@int}:hover\", \"#faa\")\n",
      "\n",
      "from random import randint\n",
      "pr([[[randint(0, 100)\n",
      "      for k in range(randint(1, 5))]\n",
      "     for j in range(randint(1, 5))]\n",
      "    for i in range(10)],\n",
      "   rules = rules)"
     ],
     "language": "python",
     "metadata": {},
     "outputs": [],
     "prompt_number": 3
    },
    {
     "cell_type": "markdown",
     "metadata": {},
     "source": [
      "For the moment, you *cannot* define Python functions to circumscribe the applicability\n",
      "of the rules, though you can get around that limitation by programmatically adding classes:\n",
      "\n",
      "Class manipulation\n",
      "==================\n",
      "\n",
      "You can programmatically add and remove classes from select elements. Three special\n",
      "attributes control class manipulation:\n",
      "\n",
      "* `:classes` completely redefines the classes for the selection, not compounded (last defined has force of law)\n",
      "* `:+classes` *adds* classes to the selection, **compounded**\n",
      "* `:-classes` *removes* classes from the selection, **compounded**\n",
      "\n",
      "The value for these attributes may be:\n",
      "\n",
      "* A string, which represents a single class\n",
      "* A set of strings, which represents a set of classes\n",
      "* A function, which takes a set of classes and a list of children, and returns\n",
      "  a class or set of classes\n",
      "\n",
      "The following methods are offered as shortcuts:\n",
      "\n",
      "* `RuleBuilder.classes(selector, value)` for `:classes`\n",
      "* `RuleBuilder.pclasses(selector, value[, function])` for `:+classes`\n",
      "* `RuleBuilder.mclasses(selector, value[, function])` for `:-classes`\n",
      "* `RuleBuilder.pmclasses(selector, v1, v2)` combines `:+classes` and `:-classes`\n",
      "\n",
      "If a value and a function are provided, the class or set of classes listed as value\n",
      "will be added or removed only if the function returns True. The value may also be\n",
      "a function that returns a class or set of classes, as explained above.\n",
      "\n",
      "**Note**: these rules are run until equilibrium. It is possible to get stuck in\n",
      "an infinite loop, e.g. if pclasses and mclasses return the same class on intersecting\n",
      "selectors, so don't do anything crazy."
     ]
    },
    {
     "cell_type": "code",
     "collapsed": false,
     "input": [
      "rules = RB().classes(\".{@str}\", {\"@set\"})\n",
      "pr([\"yours\", \"truly\"], rules = rules)\n",
      "rules = RB().pclasses(\".{@str}\", {\"@set\"})\n",
      "pr([\"yours\", \"truly\"], rules = rules)\n",
      "rules = RB().mclasses(\".{@str}\", {\"scalar\"})\n",
      "pr([\"yours\", \"truly\"], rules = rules)\n",
      "rules = RB().pclasses(\".{@str}\", \"hl1\", lambda classes, children: children[0] == \"truly\")\n",
      "pr([\"yours\", \"truly\"], rules = rules)\n",
      "# run your cursor over the results (@set:hover has a css rule for blue border)"
     ],
     "language": "python",
     "metadata": {},
     "outputs": [],
     "prompt_number": 4
    },
    {
     "cell_type": "markdown",
     "metadata": {},
     "source": [
      "Replace\n",
      "=======\n",
      "\n",
      "* Attribute: `:replace`\n",
      "* Shortcut: `RuleBuilder.replace(selector, function)`\n",
      "\n",
      "The function takes\n",
      "a set of classes and a list of children and returns a new set of classes and a new set of\n",
      "children. It is run right after the class modifiers."
     ]
    },
    {
     "cell_type": "code",
     "collapsed": false,
     "input": [
      "rules = RB().replace(\".{@str}\", lambda classes, children: ({\"@list\", \"sequence\"}, list(children)*3))\n",
      "pr(\"bloody mary\", rules = rules)\n",
      "# I hope your screen isn't glossy"
     ],
     "language": "python",
     "metadata": {},
     "outputs": [],
     "prompt_number": 5
    },
    {
     "cell_type": "markdown",
     "metadata": {},
     "source": [
      "Hide\n",
      "====\n",
      "\n",
      "* Attribute: `:hide`\n",
      "* Shortcut: `RuleBuilder.hide(selector[, function])`\n",
      "\n",
      "The function takes a set of classes and a list of children and returns True or False. If True then the node\n",
      "is scrapped and not shown. If there is no function, then the selected elements are hidden unconditionally. "
     ]
    },
    {
     "cell_type": "code",
     "collapsed": false,
     "input": [
      "rules = RB().hide(\".{@tuple} > .{@str}\")\n",
      "pr((\"a\", (\"b\", \"c\"), [\"d\", \"e\"], \"f\"), rules = rules)\n",
      "rules = RB().hide(\".sequence\", lambda classes, children: any(child == descr(\"hide\") for child in children))\n",
      "pr([\"a\", (\"b\", \"c\"), [\"d\", \"hide\"], \"f\"], rules = rules)"
     ],
     "language": "python",
     "metadata": {},
     "outputs": [],
     "prompt_number": 6
    },
    {
     "cell_type": "markdown",
     "metadata": {},
     "source": [
      "Rearrange\n",
      "=========\n",
      "\n",
      "* Attribute: `:rearrange`\n",
      "* Shortcut: `RuleBuilder.rearrange(selector[, function])`\n",
      "\n",
      "Again, takes a set of classes and a list of children. Returns a list of new children.\n",
      "That list cannot contain sets. This is run after replace, at which point *the classes for this node are fixed*\n",
      "and cannot be changed."
     ]
    },
    {
     "cell_type": "code",
     "collapsed": false,
     "input": [
      "rules = RB().rearrange(\".sequence\", lambda classes, children: list(reversed(children)))\n",
      "pr([1, 2, 3, [4, [5, 6]], 7, (8, 9)], rules = rules)"
     ],
     "language": "python",
     "metadata": {},
     "outputs": [],
     "prompt_number": 7
    },
    {
     "cell_type": "markdown",
     "metadata": {},
     "source": [
      "You can emulate `replace` to some extent by returning a singleton list with a new node in it, but\n",
      "the effect may be different, because the node's classes remain unchanged and thus they will keep\n",
      "being formatted as before. For instance, the `replace` example using `rearrange` would look like this:"
     ]
    },
    {
     "cell_type": "code",
     "collapsed": false,
     "input": [
      "rules = RB().rearrange(\".{@str}\", lambda classes, children: [({\"@list\", \"sequence\"}, list(children)*3)])\n",
      "pr(\"bloody mary\", rules = rules)"
     ],
     "language": "python",
     "metadata": {},
     "outputs": [],
     "prompt_number": 8
    },
    {
     "cell_type": "markdown",
     "metadata": {},
     "source": [
      "Before and after\n",
      "================\n",
      "\n",
      "* Attribute: `:before`\n",
      "* Shortcut: `RuleBuilder.before(selector[, function])`\n",
      "\n",
      "* Attribute: `:after`\n",
      "* Shortcut: `RuleBuilder.after(selector[, function])`\n",
      "\n",
      "Run after rearrange, they serve to prepend or append elements\n",
      "to the node's existing children. They are **cumulative**, and the\n",
      "first defined are the first applied."
     ]
    },
    {
     "cell_type": "code",
     "collapsed": false,
     "input": [
      "rules = RB().before(\".{@str}\", \"(((\").after(\".{@str}\", \")))\")\n",
      "pr(\"bananas\", rules = rules)\n",
      "\n",
      "rules = RB().before(\".{@str}\", \"1\").before(\".{@str}\", \"2\").before(\".{@str}\", \"3\")\n",
      "rules = rules.after(\".{@str}\", \"1\").after(\".{@str}\", \"2\").after(\".{@str}\", \"3\")\n",
      "pr(\"<0>\", rules = rules)\n",
      "\n",
      "rules = RB().before(\".{@list}\", lambda classes, children: ({\"assoc\"}, \"len\", len(children)))\n",
      "pr([1, 2, [\"x\"]*10], rules = rules)"
     ],
     "language": "python",
     "metadata": {},
     "outputs": [],
     "prompt_number": 9
    },
    {
     "cell_type": "markdown",
     "metadata": {},
     "source": [
      "htmlreplace, join, wrap\n",
      "=======================\n",
      "\n",
      "* Attribute: `:htmlreplace`\n",
      "* Shortcut: `RuleBuilder.htmlreplace(selector[, function])`\n",
      "* Attribute: `:join`\n",
      "* Shortcut: `RuleBuilder.join(selector[, function])`\n",
      "* Attribute: `:wrap`\n",
      "* Shortcut: `RuleBuilder.wrap(selector[, function])`\n",
      "\n",
      "Whereas the previous methods are run before the children are processed,\n",
      "these methods are run *after* the children are processed. They all receive\n",
      "a set of classes and a list of children (strings or `HTMLNode` instances).\n",
      "\n",
      "`htmlreplace` must return a set of classes, which will be the final classes\n",
      "in the resulting HTML for this node, and a list of children (must be strings\n",
      "or `HTMLNode` instances).\n",
      "\n",
      "`join` and `wrap` both take a set of classes and a list of children and\n",
      "must return a new list of children. The difference is just that `join` is\n",
      "*meant* to add separators and the like, and `wrap` to prepend or append new\n",
      "children, but in reality they can do pretty much whatever."
     ]
    },
    {
     "cell_type": "code",
     "collapsed": false,
     "input": [
      "rules = RB().htmlreplace(\".{@str}\", lambda classes, children: ({\"@int\"}, children))\n",
      "pr(\"hello\", rules = rules)\n",
      "\n",
      "from descr import make_joiner\n",
      "rules = RB().join(\".{@list}\", make_joiner(\"<br/>\"))\n",
      "pr([1, 2, 3], rules = rules)\n",
      "\n",
      "from descr.html import HTMLNode\n",
      "rules = RB().wrap(\".{@list}\", lambda classes, children: [HTMLNode({\"@str\"}, [\"(((\"])] + children + [HTMLNode({\"@str\"}, [\")))\"])])\n",
      "pr([1, 2, 3], rules = rules)"
     ],
     "language": "python",
     "metadata": {},
     "outputs": [],
     "prompt_number": 10
    },
    {
     "cell_type": "code",
     "collapsed": true,
     "input": [],
     "language": "python",
     "metadata": {},
     "outputs": [],
     "prompt_number": 10
    }
   ],
   "metadata": {}
  }
 ]
}