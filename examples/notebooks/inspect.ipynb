{
 "metadata": {
  "name": "inspect"
 },
 "nbformat": 3,
 "nbformat_minor": 0,
 "worksheets": [
  {
   "cells": [
    {
     "cell_type": "markdown",
     "metadata": {},
     "source": [
      "Inspection\n",
      "==========\n",
      "\n",
      "Let's remake the `Person` class in the tour:"
     ]
    },
    {
     "cell_type": "code",
     "collapsed": false,
     "input": [
      "from descr import boxy_notebook, descr, HTMLRuleBuilder as RB\n",
      "from descr.util import Object\n",
      "pr = boxy_notebook(always_setup = True)\n",
      "\n",
      "class Person(object):\n",
      "    def __init__(self, name, age, occupation):\n",
      "        self.name, self.age, self.occupation = name, age, occupation\n",
      "    def __descr__(self, recurse):\n",
      "        return recurse(Object(\"Person\", self.name, age = self.age, occupation = self.occupation))\n",
      "    \n",
      "peter = Person(\"Peter\", 20, \"baker\")\n",
      "pr(peter)"
     ],
     "language": "python",
     "metadata": {},
     "outputs": [],
     "prompt_number": 1
    },
    {
     "cell_type": "markdown",
     "metadata": {},
     "source": [
      "Now, let's investigate what exactly it is that we are dealing with. The function that calls `__descr__`\n",
      "and will give itself as the `recurse` argument is, by default, the `descr` function (see import on top)."
     ]
    },
    {
     "cell_type": "code",
     "collapsed": false,
     "input": [
      "descr(peter)"
     ],
     "language": "python",
     "metadata": {},
     "outputs": [],
     "prompt_number": 2
    },
    {
     "cell_type": "markdown",
     "metadata": {},
     "source": [
      "So it's really just a list of lists or tuples, with sets of classes. In a nutshell:\n",
      "\n",
      "* `str`, `int` and other basic types are leaves\n",
      "* Any iterable that's not a `set` is a node with other nodes and leaves as children\n",
      "* `set` (or `frozenset`), when it is a child of a node, is a set of classes for that\n",
      "  node. If more than one is encountered, the node's classes is their union.\n",
      "\n",
      "And about the classes you can make the following observations:\n",
      "\n",
      "* `@foo` is the class given to objects of class `Foo`\n",
      "* `+bar` is the class given to the label \"bar\"\n",
      "* Non-prefixed classes each have their own special meaning\n",
      "\n",
      "Now, you could pretty-print that:"
     ]
    },
    {
     "cell_type": "code",
     "collapsed": false,
     "input": [
      "pr(descr(peter))"
     ],
     "language": "python",
     "metadata": {},
     "outputs": [],
     "prompt_number": 3
    },
    {
     "cell_type": "markdown",
     "metadata": {},
     "source": [
      "However, that's confusing, because the differences between sets, lists and tuples only show up on hover\n",
      "even though the difference is properly crucial, and if there are generators, they will not be expanded\n",
      "(even though they would be if they were describing anything else than themselves).\n",
      "\n",
      "Thankfully, you can use `Description(descr(obj))` or `Quote(obj)` to get something better:"
     ]
    },
    {
     "cell_type": "code",
     "collapsed": false,
     "input": [
      "from descr.util import Quote, Description\n",
      "pr(Quote([1, 2.3, 4+5j]))\n",
      "pr(Quote(dict(a = 1, b = 2)))\n",
      "pr(Quote(peter)) # alternatively: pr(Description(descr(peter)))"
     ],
     "language": "python",
     "metadata": {},
     "outputs": [],
     "prompt_number": 4
    },
    {
     "cell_type": "markdown",
     "metadata": {},
     "source": [
      "Still, though, many processing rules that are applied to such descriptions *add* classes to nodes, and\n",
      "some even rearrange the children. `Quote` gives you the description prior to the application\n",
      "of any rules, but you might want to see the result at various stages of the transformation.\n",
      "For instance, `@list`, `@tuple` and other sequences get the `sequence` class. `@str`, `@int`,\n",
      "etc. get the `scalar` class.\n",
      "\n",
      "For instance, the CSS rules understandably apply to the final HTML that's generated. You can\n",
      "get the raw string using `pr.translate(descr(obj))`, which is certainly informative (it will\n",
      "show you the CSS, for one). You can also use the `inspect` rule:"
     ]
    },
    {
     "cell_type": "code",
     "collapsed": false,
     "input": [
      "pr(pr.translate(descr(peter)))\n",
      "rules = RB().inspect(\"*\")\n",
      "pr(peter, rules = rules)\n",
      "rules = RB().inspect(\".{+age}\")\n",
      "pr(peter, rules = rules)"
     ],
     "language": "python",
     "metadata": {},
     "outputs": [],
     "prompt_number": 5
    },
    {
     "cell_type": "markdown",
     "metadata": {},
     "source": [
      "You can see how *that* is structured by inspecting `descr.html.HTMLNode` objects."
     ]
    },
    {
     "cell_type": "code",
     "collapsed": false,
     "input": [
      "from descr.html import HTMLNode\n",
      "node = HTMLNode({\"class1\", \"class2\"}, [\"child1\", \"child2\"])\n",
      "pr(node)\n",
      "pr(Quote(node))\n",
      "rules = RB().inspect(\"*\")\n",
      "pr(node, rules = rules)"
     ],
     "language": "python",
     "metadata": {},
     "outputs": [],
     "prompt_number": 6
    },
    {
     "cell_type": "markdown",
     "metadata": {},
     "source": [
      "This should suffice to tell you what kind of rules to make to manipulate that output (clearing out uninteresting\n",
      "classes, highlighting interesting ones, etc.) For instance:"
     ]
    },
    {
     "cell_type": "code",
     "collapsed": false,
     "input": [
      "hide = \"scalar sequence stack vstack assoc_separator\".split()\n",
      "rules = RB().inspect(\"*\").rearrange(\".{@HTMLNode} > .{+classes}\", lambda classes, children: [child for child in children if child not in hide] or ['---'])\n",
      "pr(peter, rules = rules)"
     ],
     "language": "python",
     "metadata": {},
     "outputs": [],
     "prompt_number": 7
    },
    {
     "cell_type": "code",
     "collapsed": true,
     "input": [],
     "language": "python",
     "metadata": {},
     "outputs": [],
     "prompt_number": 7
    }
   ],
   "metadata": {}
  }
 ]
}