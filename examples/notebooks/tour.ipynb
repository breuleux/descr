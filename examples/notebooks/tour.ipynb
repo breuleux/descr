{
 "metadata": {
  "name": "tour"
 },
 "nbformat": 3,
 "nbformat_minor": 0,
 "worksheets": [
  {
   "cells": [
    {
     "cell_type": "markdown",
     "metadata": {},
     "source": [
      "Tour of the `descr` package\n",
      "===========================\n",
      "\n",
      "Hello and welcome to this tutorial. First let's import the package and create a\n",
      "printer. There is no default printer yet.\n",
      "\n",
      "The `always_setup` argument means that the style will be inserted every time\n",
      "`pr()` is called. Otherwise, it is only printed when there are changes. Deleting\n",
      "a cell deletes the style, so if `always_setup = False`, deleting whichever cell\n",
      "contains the style will break display in the other cells. It's good to know."
     ]
    },
    {
     "cell_type": "code",
     "collapsed": true,
     "input": [
      "from descr import boxy_notebook, descr, HTMLRuleBuilder as RB\n",
      "pr = boxy_notebook(always_setup = True)"
     ],
     "language": "python",
     "metadata": {},
     "outputs": [],
     "prompt_number": 1
    },
    {
     "cell_type": "markdown",
     "metadata": {},
     "source": [
      "Let's try and see if it works:"
     ]
    },
    {
     "cell_type": "code",
     "collapsed": false,
     "input": [
      "pr(\"Hello :)\")"
     ],
     "language": "python",
     "metadata": {},
     "outputs": [],
     "prompt_number": 2
    },
    {
     "cell_type": "markdown",
     "metadata": {},
     "source": [
      "What can be displayed\n",
      "=====================\n",
      "\n",
      "Most basic datatypes should work, save for those I forgot about.\n",
      "\n",
      "`pr` displays nested data structures in boxes. Various types get different colored borders when hovered.\n",
      "\n",
      "Empty strings and sequences are displayed specially."
     ]
    },
    {
     "cell_type": "code",
     "collapsed": false,
     "input": [
      "pr((\"tuple\", 1, 987.654, 2+2j, [\"list\", \"hello\", [11, 22, 33], \"!\"], {\"key1\": \"value\", \"key2\": {1: 2, 3: 4}}, {\"set\", \"of\", \"unordered\", \"things\"}))\n",
      "pr(\"\", '\"\"', (), [], {}, set())"
     ],
     "language": "python",
     "metadata": {},
     "outputs": [],
     "prompt_number": 3
    },
    {
     "cell_type": "markdown",
     "metadata": {},
     "source": [
      "**Tracebacks** can be displayed prettily. In Python 3, all you need to do is `pr(exception)`\n",
      "to print the exception, its traceback (contained in `exception__traceback__`), as\n",
      "well as previous exceptions (`exception.__context__` or `exception.__cause__`). In\n",
      "Python 2, these fields do not seem to exist, but you can set them yourself:"
     ]
    },
    {
     "cell_type": "code",
     "collapsed": false,
     "input": [
      "import traceback, sys\n",
      "try:\n",
      "    traceback.print_stack(\"But... I am not a stack!\")\n",
      "except:\n",
      "    etype, evalue, tb = sys.exc_info()\n",
      "    evalue.__traceback__ = tb\n",
      "    pr(evalue)\n",
      "    # The following prints with 3 lines of context, though it may seem a bit arcane:\n",
      "    #pr(evalue, rules = RB().pclasses(\".location\", \"C#3\"))"
     ],
     "language": "python",
     "metadata": {},
     "outputs": [],
     "prompt_number": 4
    },
    {
     "cell_type": "markdown",
     "metadata": {},
     "source": [
      "**Custom objects** must define the `__descr__` method (and they must be new style classes).\n",
      "The method takes one argument, `recurse`, which is a function to call on any field or children\n",
      "to obtain their description. In order to facilitate the ordeal, a few pre-implemented classes can be used\n",
      "as proxies (simply recurse on an object created using these factories).\n",
      "\n",
      "See the **inspect** notebook for more information about the format of what `__descr__` returns."
     ]
    },
    {
     "cell_type": "code",
     "collapsed": false,
     "input": [
      "from descr.util import Group, Assoc, Object\n",
      "\n",
      "class MyString(str):\n",
      "    def __descr__(self, recurse):\n",
      "        return ({\"@str\"}, \"(((\" + self + \")))\")\n",
      "\n",
      "class Person(object):\n",
      "    def __init__(self, name, age, occupation):\n",
      "        self.name, self.age, self.occupation = name, age, occupation\n",
      "    def __descr__(self, recurse):\n",
      "        return recurse(Object(\"Person\", self.name, age = self.age, occupation = self.occupation))\n",
      "    \n",
      "peter = Person(\"Peter\", 25, \"baker\")\n",
      "pr(MyString(\"bananas\"),\n",
      "   peter,\n",
      "   Assoc(\"key\", \"value\"),\n",
      "   Group([1, 2, 3, 4], classes = {\"@list\", \"sequence\"}),\n",
      "   Object(\"A\", \"B\", a = 1, b = 2, c = 3, field_ordering = [\"c\", \"b\", \"a\"]),\n",
      "   Object(\"A\", None, [1, 2, 3], {'a': 4, 'b': 5}))"
     ],
     "language": "python",
     "metadata": {},
     "outputs": [],
     "prompt_number": 5
    },
    {
     "cell_type": "markdown",
     "metadata": {},
     "source": [
      "Highlighting and other manipulations\n",
      "====================================\n",
      "\n",
      "`descr` allows highlighting of certain parts, and modification of the descriptions of\n",
      "objects that are parametrized using CSS selectors.\n",
      "\n",
      "A selector is written as the CSS spec would indicate, but many class names contain\n",
      "invalid CSS characters (for instance, strings have the class `@str`). You can however\n",
      "enclose the name in `{}`s and it will be escaped automatically. Depending on the properties\n",
      "you are adding, some selectors may be refused, because `descr` does not use a full CSS\n",
      "implementation on the Python side (for the rest, though, it delegates to the browser).\n",
      "\n",
      "In order to customize display, you need to create a ruleset using `descr::HTMLRuleBuilder`.\n",
      "The builder provides many useful methods to construct rules, and then it can be given\n",
      "as a keyword argument to `pr`.\n",
      "\n",
      "Here is a simple example displaying the various ways to add rules:"
     ]
    },
    {
     "cell_type": "code",
     "collapsed": false,
     "input": [
      "from descr import HTMLRuleBuilder as RB, make_joiner\n",
      "rules = RB()\n",
      "rules.css_color(\".{@str}\", \"blue\")\n",
      "rules.rule(\".{@float}\", {\"color\": \"green\", \"border\": \"1px solid red\"})\n",
      "rules.join(\".{@list}\", make_joiner(\"<span class=bar>|</span>\")) \\\n",
      "     .css_color(\".bar\", \"#888\")\n",
      "rules.rearrange(\".{@tuple}\", lambda classes, children: list(reversed(children)))\n",
      "\n",
      "# Might need to execute twice to get it 100% correct but I am not sure why\n",
      "pr([\"hello!\", 10, 9.87, (1, 2, 3)], rules = rules)"
     ],
     "language": "python",
     "metadata": {},
     "outputs": [],
     "prompt_number": 6
    },
    {
     "cell_type": "markdown",
     "metadata": {},
     "source": [
      "Now let's do something more interesting: highlight all error builtins!\n",
      "\n",
      "There are methods called `hl` (bold), `hl1`, `hl2`, `hl3` (colors) and `hlE` (errors)\n",
      "that highlight the specified selector. They are actually implemented by giving the\n",
      "target elements an extra class, which is styled separately."
     ]
    },
    {
     "cell_type": "code",
     "collapsed": false,
     "input": [
      "rules = RB()\n",
      "rules.hl1(\".{@str}\", lambda classes, children: children[0].endswith(\"Error\"))\n",
      "# alternatively:\n",
      "# rules.pclasses(\".{@str}\", \"hl1\", lambda classes, children: children[0].endswith(\"Error\"))\n",
      "# or:\n",
      "# rules.rule(\".{@str}\", {\":+classes\": lambda classes, children: {\"hl1\"} if children[0].endswith(\"Error\") else {}})\n",
      "\n",
      "# Want to hide anything that doesn't match? Add this:\n",
      "# rules.hide(\".{@str}\", lambda classes, children: not children[0].endswith(\"Error\"))\n",
      "\n",
      "pr(dir(__builtins__), rules = rules)"
     ],
     "language": "python",
     "metadata": {},
     "outputs": [],
     "prompt_number": 7
    },
    {
     "cell_type": "markdown",
     "metadata": {},
     "source": [
      "There is a second way to do it, which is to monkey patch the `descr` method. This is easy\n",
      "to do because `descr` takes an additional argument which is the method to call for the children.\n",
      "For instance, if I want to track some particular object:"
     ]
    },
    {
     "cell_type": "code",
     "collapsed": false,
     "input": [
      "alist = [\"hello\", \"world\"]\n",
      "\n",
      "def descr2(obj, recurse = None):\n",
      "    r = descr(obj, descr2)\n",
      "    if obj is alist:\n",
      "        return [{\"hl1\"}, r]\n",
      "    else:\n",
      "        return r\n",
      "\n",
      "pr([1, 2, alist, [alist, [\"hello\", \"world\"]], [3, 4, 5]], descr = descr2)"
     ],
     "language": "python",
     "metadata": {},
     "outputs": [],
     "prompt_number": 8
    },
    {
     "cell_type": "markdown",
     "metadata": {},
     "source": [
      "You may use whichever method is easier. The former is a bit more composable and\n",
      "configurable thanks to selectors, but it can only access the object's description\n",
      "and not the object itself, unlike the latter. You can also use a combination of\n",
      "both: insert special classes around key elements, and then use selectors to\n",
      "highlight them depending on where they are."
     ]
    }
   ],
   "metadata": {}
  }
 ]
}